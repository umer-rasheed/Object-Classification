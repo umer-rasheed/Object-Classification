{
 "cells": [
  {
   "cell_type": "markdown",
   "metadata": {},
   "source": [
    "### Object Classification"
   ]
  },
  {
   "cell_type": "markdown",
   "metadata": {},
   "source": [
    "#### Import Modules"
   ]
  },
  {
   "cell_type": "code",
   "execution_count": 38,
   "metadata": {},
   "outputs": [
    {
     "name": "stdout",
     "output_type": "stream",
     "text": [
      "Import Modules\n"
     ]
    }
   ],
   "source": [
    "# IMPORT MODULES\n",
    "# Import Numpy, TensorFlow, Scipy, Keras\n",
    "import pickle\n",
    "import os\n",
    "import pickle\n",
    "import math\n",
    "import cv2\n",
    "import numpy as np\n",
    "import matplotlib.pyplot as plt\n",
    "import matplotlib.image as mpimg\n",
    "from scipy.signal import find_peaks_cwt\n",
    "import random\n",
    "from sklearn.utils import shuffle\n",
    "import csv\n",
    "import tensorflow as tf\n",
    "from tensorflow.contrib.layers import flatten\n",
    "from tensorflow.examples.tutorials.mnist import input_data\n",
    "import keras\n",
    "from keras.datasets import cifar10\n",
    "from keras.models import Sequential,model_from_json\n",
    "from keras.layers import Dense,Dropout,Activation,Flatten\n",
    "from keras.layers import Convolution2D,MaxPooling2D\n",
    "from keras.layers import Flatten,Lambda,ELU\n",
    "from keras.optimizers import SGD,Adam,RMSprop\n",
    "from keras.layers.convolutional import Conv2D\n",
    "from keras.layers.normalization import BatchNormalization\n",
    "from keras.utils import np_utils\n",
    "from keras.preprocessing.image import ImageDataGenerator\n",
    "from keras.initializers import glorot_uniform\n",
    "import scipy.misc\n",
    "from matplotlib.pyplot import imshow\n",
    "%matplotlib inline\n",
    "from IPython.display import SVG\n",
    "import json\n",
    "from keras.models import Sequential, model_from_json\n",
    "\n",
    "# Print\n",
    "print(\"Import Modules\")"
   ]
  },
  {
   "cell_type": "markdown",
   "metadata": {},
   "source": [
    "#### Load Data"
   ]
  },
  {
   "cell_type": "code",
   "execution_count": 2,
   "metadata": {},
   "outputs": [
    {
     "name": "stdout",
     "output_type": "stream",
     "text": [
      "Training Data Shape: (50000, 32, 32, 3)\n",
      "Test Data Shape: (10000, 32, 32, 3)\n",
      "Training Samples: 50000\n",
      "Test Samples 10000\n"
     ]
    }
   ],
   "source": [
    "# LOAD DATA\n",
    "# Load Training and Test Data\n",
    "(XTrain,YTrain),(XTest,YTest)=cifar10.load_data()\n",
    "print('Training Data Shape:',XTrain.shape)\n",
    "print('Test Data Shape:',XTest.shape)\n",
    "print('Training Samples:',XTrain.shape[0])\n",
    "print('Test Samples',XTest.shape[0])\n",
    "\n",
    "# Load Label Names\n",
    "LabelNames=['Airplane','Automobile','Bird','Cat','Deer','Dog','Frog','Horse','Ship','Truck']"
   ]
  },
  {
   "cell_type": "markdown",
   "metadata": {},
   "source": [
    "#### Explore Data"
   ]
  },
  {
   "cell_type": "code",
   "execution_count": 3,
   "metadata": {},
   "outputs": [
    {
     "name": "stdout",
     "output_type": "stream",
     "text": [
      "Example of Image 29236:\n",
      "Min Value: 23 Max Value: 238\n",
      "Label ID: [7] Name: Horse\n"
     ]
    },
    {
     "data": {
      "text/plain": [
       "<matplotlib.image.AxesImage at 0x7ff2d863bdd8>"
      ]
     },
     "execution_count": 3,
     "metadata": {},
     "output_type": "execute_result"
    },
    {
     "data": {
      "image/png": "[encoded data removed]",
      "text/plain": [
       "<Figure size 72x72 with 1 Axes>"
      ]
     },
     "metadata": {},
     "output_type": "display_data"
    }
   ],
   "source": [
    "# EXPLORE DATA\n",
    "# Plot Random Image\n",
    "Index=Index=random.randint(0,len(XTrain))\n",
    "SampleImage=XTrain[Index]\n",
    "SampleLabel=YTrain[Index]\n",
    "print('Example of Image {}:'.format(Index))\n",
    "print('Min Value: {} Max Value: {}'.format(SampleImage.min(),SampleImage.max()))\n",
    "print('Label ID: {} Name: {}'.format(SampleLabel,LabelNames[int(SampleLabel)]))\n",
    "plt.figure(figsize=(1,1))\n",
    "plt.axis('off')\n",
    "plt.imshow(SampleImage)"
   ]
  },
  {
   "cell_type": "code",
   "execution_count": 4,
   "metadata": {},
   "outputs": [
    {
     "data": {
      "image/png": "[encoded data removed]",
      "text/plain": [
       "<Figure size 1080x360 with 1 Axes>"
      ]
     },
     "metadata": {},
     "output_type": "display_data"
    }
   ],
   "source": [
    "# EXPLORE DATA\n",
    "# Plot the Histograms for Training and Testing Data\n",
    "plt.figure(figsize=(15,5))\n",
    "plt.hist(YTrain,bins=10,label='Training Data',color='blue')\n",
    "plt.hist(YTest,bins=10,label='Testing Data',color='yellow')\n",
    "plt.title('Frequency of Each Class in Training & Testing Set')\n",
    "plt.ylabel('Count')\n",
    "plt.legend(loc='upper right')\n",
    "plt.xticks(np.arange(0.0,10,1.0),[0,1,2,3,4,5,6,7,8,9],ha='right',rotation=0)\n",
    "plt.show()"
   ]
  },
  {
   "cell_type": "markdown",
   "metadata": {},
   "source": [
    "#### Preprocess Data"
   ]
  },
  {
   "cell_type": "code",
   "execution_count": 5,
   "metadata": {},
   "outputs": [],
   "source": [
    "# PREPROCESS DATA\n",
    "# Preprocess Training and Test Data\n",
    "XTrain=XTrain.astype('float32')\n",
    "XTest=XTest.astype('float32')\n",
    "XTrain/=255\n",
    "XTest/=255\n",
    "YTrain=np_utils.to_categorical(YTrain,10)\n",
    "YTest=np_utils.to_categorical(YTest,10)"
   ]
  },
  {
   "cell_type": "markdown",
   "metadata": {},
   "source": [
    "#### Model Architecture"
   ]
  },
  {
   "cell_type": "code",
   "execution_count": 22,
   "metadata": {},
   "outputs": [],
   "source": [
    "# DEFINE ARCHITECTURE\n",
    "# Set Epochs and Batch Size\n",
    "Epochs=30\n",
    "BatchSize=128"
   ]
  },
  {
   "cell_type": "code",
   "execution_count": 19,
   "metadata": {},
   "outputs": [],
   "source": [
    "# DEFINE ARCHITECTURE\n",
    "# Define VGG\n",
    "def VGG():\n",
    "    # Initialize Model\n",
    "    Model=Sequential()\n",
    "    \n",
    "    # Layer 1\n",
    "    Model.add(Conv2D(64,(3,3),padding='same',input_shape=XTrain.shape[1:],name='block1_conv1'))\n",
    "    Model.add(BatchNormalization()) \n",
    "    Model.add(Activation('relu'))\n",
    "    \n",
    "    # Layer 2\n",
    "    Model.add(Conv2D(64,(3,3),padding='same',name='block1_conv2'))\n",
    "    Model.add(BatchNormalization())\n",
    "    Model.add(Activation('relu'))\n",
    "    Model.add(MaxPooling2D((2,2),strides=(2,2),name='block1_pool'))\n",
    "    \n",
    "    # Layer 3\n",
    "    Model.add(Conv2D(128,(3,3),padding='same',name='block2_conv1'))\n",
    "    Model.add(BatchNormalization()) \n",
    "    Model.add(Activation('relu'))\n",
    "\n",
    "    # Layer 4\n",
    "    Model.add(Conv2D(128,(3,3),padding='same',name='block2_conv2'))\n",
    "    Model.add(BatchNormalization()) \n",
    "    Model.add(Activation('relu'))\n",
    "    Model.add(MaxPooling2D((2,2), strides=(2,2),name='block2_pool'))\n",
    "    \n",
    "    # Layer 5\n",
    "    Model.add(Conv2D(256,(3,3),padding='same',name='block3_conv1'))\n",
    "    Model.add(BatchNormalization()) \n",
    "    Model.add(Activation('relu'))\n",
    "    \n",
    "    # Layer 6\n",
    "    Model.add(Conv2D(256,(3,3),padding='same',name='block3_conv2'))\n",
    "    Model.add(BatchNormalization()) \n",
    "    Model.add(Activation('relu'))\n",
    "    \n",
    "    # Layer 7\n",
    "    Model.add(Conv2D(256,(3,3),padding='same',name='block3_conv3'))\n",
    "    Model.add(BatchNormalization()) \n",
    "    Model.add(Activation('relu'))\n",
    "    \n",
    "    # Layer 8\n",
    "    Model.add(Conv2D(256,(3,3),padding='same',name='block3_conv4'))\n",
    "    Model.add(BatchNormalization()) \n",
    "    Model.add(Activation('relu'))\n",
    "    Model.add(MaxPooling2D((2,2),strides=(2,2),name='block3_pool'))\n",
    "    \n",
    "    # Layer 9\n",
    "    Model.add(Conv2D(512,(3,3),padding='same',name='block4_conv1'))\n",
    "    Model.add(BatchNormalization()) \n",
    "    Model.add(Activation('relu'))\n",
    "    \n",
    "    # Layer 10\n",
    "    Model.add(Conv2D(512,(3,3),padding='same',name='block4_conv2'))\n",
    "    Model.add(BatchNormalization()) \n",
    "    Model.add(Activation('relu'))\n",
    "    \n",
    "    # Layer 11\n",
    "    Model.add(Conv2D(512,(3,3),padding='same',name='block4_conv3'))\n",
    "    Model.add(BatchNormalization()) \n",
    "    Model.add(Activation('relu'))\n",
    "    \n",
    "    # Layer 12\n",
    "    Model.add(Conv2D(512,(3,3),padding='same',name='block4_conv4'))\n",
    "    Model.add(BatchNormalization()) \n",
    "    Model.add(Activation('relu'))\n",
    "    Model.add(MaxPooling2D((2,2),strides=(2,2),name='block4_pool'))\n",
    "    \n",
    "    # Layer 13\n",
    "    Model.add(Conv2D(512,(3,3),padding='same',name='block5_conv1'))\n",
    "    Model.add(BatchNormalization()) \n",
    "    Model.add(Activation('relu'))\n",
    "    \n",
    "    # Layer 14\n",
    "    Model.add(Conv2D(512,(3,3),padding='same',name='block5_conv2'))\n",
    "    Model.add(BatchNormalization()) \n",
    "    Model.add(Activation('relu'))\n",
    "    \n",
    "    # Layer 15\n",
    "    Model.add(Conv2D(512,(3,3),padding='same',name='block5_conv3'))\n",
    "    Model.add(BatchNormalization()) \n",
    "    Model.add(Activation('relu'))\n",
    "    \n",
    "    # Layer 16\n",
    "    Model.add(Conv2D(512,(3,3),padding='same',name='block5_conv4'))\n",
    "    Model.add(BatchNormalization()) \n",
    "    Model.add(Activation('relu'))\n",
    "    \n",
    "    # Flatten\n",
    "    Model.add(Flatten())\n",
    "    \n",
    "    # Layer 17 (Fully Connected)\n",
    "    Model.add(Dense(4096))\n",
    "    Model.add(BatchNormalization()) \n",
    "    Model.add(Activation('relu'))\n",
    "    Model.add(Dropout(0.5))\n",
    "    \n",
    "    # Layer 18 (Fully Connected)\n",
    "    Model.add(Dense(4096, name='fc2'))\n",
    "    Model.add(BatchNormalization()) \n",
    "    Model.add(Activation('relu'))\n",
    "    Model.add(Dropout(0.5))\n",
    "    \n",
    "    # Layer 19 (Fully Connected)\n",
    "    Model.add(Dense(10))\n",
    "    Model.add(BatchNormalization()) \n",
    "    Model.add(Activation('softmax'))\n",
    "    \n",
    "    return Model"
   ]
  },
  {
   "cell_type": "code",
   "execution_count": 21,
   "metadata": {},
   "outputs": [
    {
     "name": "stdout",
     "output_type": "stream",
     "text": [
      "_________________________________________________________________\n",
      "Layer (type)                 Output Shape              Param #   \n",
      "=================================================================\n",
      "block1_conv1 (Conv2D)        (None, 32, 32, 64)        1792      \n",
      "_________________________________________________________________\n",
      "batch_normalization_58 (Batc (None, 32, 32, 64)        256       \n",
      "_________________________________________________________________\n",
      "activation_58 (Activation)   (None, 32, 32, 64)        0         \n",
      "_________________________________________________________________\n",
      "block1_conv2 (Conv2D)        (None, 32, 32, 64)        36928     \n",
      "_________________________________________________________________\n",
      "batch_normalization_59 (Batc (None, 32, 32, 64)        256       \n",
      "_________________________________________________________________\n",
      "activation_59 (Activation)   (None, 32, 32, 64)        0         \n",
      "_________________________________________________________________\n",
      "block1_pool (MaxPooling2D)   (None, 16, 16, 64)        0         \n",
      "_________________________________________________________________\n",
      "block2_conv1 (Conv2D)        (None, 16, 16, 128)       73856     \n",
      "_________________________________________________________________\n",
      "batch_normalization_60 (Batc (None, 16, 16, 128)       512       \n",
      "_________________________________________________________________\n",
      "activation_60 (Activation)   (None, 16, 16, 128)       0         \n",
      "_________________________________________________________________\n",
      "block2_conv2 (Conv2D)        (None, 16, 16, 128)       147584    \n",
      "_________________________________________________________________\n",
      "batch_normalization_61 (Batc (None, 16, 16, 128)       512       \n",
      "_________________________________________________________________\n",
      "activation_61 (Activation)   (None, 16, 16, 128)       0         \n",
      "_________________________________________________________________\n",
      "block2_pool (MaxPooling2D)   (None, 8, 8, 128)         0         \n",
      "_________________________________________________________________\n",
      "block3_conv1 (Conv2D)        (None, 8, 8, 256)         295168    \n",
      "_________________________________________________________________\n",
      "batch_normalization_62 (Batc (None, 8, 8, 256)         1024      \n",
      "_________________________________________________________________\n",
      "activation_62 (Activation)   (None, 8, 8, 256)         0         \n",
      "_________________________________________________________________\n",
      "block3_conv2 (Conv2D)        (None, 8, 8, 256)         590080    \n",
      "_________________________________________________________________\n",
      "batch_normalization_63 (Batc (None, 8, 8, 256)         1024      \n",
      "_________________________________________________________________\n",
      "activation_63 (Activation)   (None, 8, 8, 256)         0         \n",
      "_________________________________________________________________\n",
      "block3_conv3 (Conv2D)        (None, 8, 8, 256)         590080    \n",
      "_________________________________________________________________\n",
      "batch_normalization_64 (Batc (None, 8, 8, 256)         1024      \n",
      "_________________________________________________________________\n",
      "activation_64 (Activation)   (None, 8, 8, 256)         0         \n",
      "_________________________________________________________________\n",
      "block3_conv4 (Conv2D)        (None, 8, 8, 256)         590080    \n",
      "_________________________________________________________________\n",
      "batch_normalization_65 (Batc (None, 8, 8, 256)         1024      \n",
      "_________________________________________________________________\n",
      "activation_65 (Activation)   (None, 8, 8, 256)         0         \n",
      "_________________________________________________________________\n",
      "block3_pool (MaxPooling2D)   (None, 4, 4, 256)         0         \n",
      "_________________________________________________________________\n",
      "block4_conv1 (Conv2D)        (None, 4, 4, 512)         1180160   \n",
      "_________________________________________________________________\n",
      "batch_normalization_66 (Batc (None, 4, 4, 512)         2048      \n",
      "_________________________________________________________________\n",
      "activation_66 (Activation)   (None, 4, 4, 512)         0         \n",
      "_________________________________________________________________\n",
      "block4_conv2 (Conv2D)        (None, 4, 4, 512)         2359808   \n",
      "_________________________________________________________________\n",
      "batch_normalization_67 (Batc (None, 4, 4, 512)         2048      \n",
      "_________________________________________________________________\n",
      "activation_67 (Activation)   (None, 4, 4, 512)         0         \n",
      "_________________________________________________________________\n",
      "block4_conv3 (Conv2D)        (None, 4, 4, 512)         2359808   \n",
      "_________________________________________________________________\n",
      "batch_normalization_68 (Batc (None, 4, 4, 512)         2048      \n",
      "_________________________________________________________________\n",
      "activation_68 (Activation)   (None, 4, 4, 512)         0         \n",
      "_________________________________________________________________\n",
      "block4_conv4 (Conv2D)        (None, 4, 4, 512)         2359808   \n",
      "_________________________________________________________________\n",
      "batch_normalization_69 (Batc (None, 4, 4, 512)         2048      \n",
      "_________________________________________________________________\n",
      "activation_69 (Activation)   (None, 4, 4, 512)         0         \n",
      "_________________________________________________________________\n",
      "block4_pool (MaxPooling2D)   (None, 2, 2, 512)         0         \n",
      "_________________________________________________________________\n",
      "block5_conv1 (Conv2D)        (None, 2, 2, 512)         2359808   \n",
      "_________________________________________________________________\n",
      "batch_normalization_70 (Batc (None, 2, 2, 512)         2048      \n",
      "_________________________________________________________________\n",
      "activation_70 (Activation)   (None, 2, 2, 512)         0         \n",
      "_________________________________________________________________\n",
      "block5_conv2 (Conv2D)        (None, 2, 2, 512)         2359808   \n",
      "_________________________________________________________________\n",
      "batch_normalization_71 (Batc (None, 2, 2, 512)         2048      \n",
      "_________________________________________________________________\n",
      "activation_71 (Activation)   (None, 2, 2, 512)         0         \n",
      "_________________________________________________________________\n",
      "block5_conv3 (Conv2D)        (None, 2, 2, 512)         2359808   \n",
      "_________________________________________________________________\n",
      "batch_normalization_72 (Batc (None, 2, 2, 512)         2048      \n",
      "_________________________________________________________________\n",
      "activation_72 (Activation)   (None, 2, 2, 512)         0         \n",
      "_________________________________________________________________\n",
      "block5_conv4 (Conv2D)        (None, 2, 2, 512)         2359808   \n",
      "_________________________________________________________________\n",
      "batch_normalization_73 (Batc (None, 2, 2, 512)         2048      \n",
      "_________________________________________________________________\n",
      "activation_73 (Activation)   (None, 2, 2, 512)         0         \n",
      "_________________________________________________________________\n",
      "flatten_4 (Flatten)          (None, 2048)              0         \n",
      "_________________________________________________________________\n",
      "dense_7 (Dense)              (None, 4096)              8392704   \n",
      "_________________________________________________________________\n",
      "batch_normalization_74 (Batc (None, 4096)              16384     \n",
      "_________________________________________________________________\n",
      "activation_74 (Activation)   (None, 4096)              0         \n",
      "_________________________________________________________________\n",
      "dropout_7 (Dropout)          (None, 4096)              0         \n",
      "_________________________________________________________________\n",
      "fc2 (Dense)                  (None, 4096)              16781312  \n",
      "_________________________________________________________________\n",
      "batch_normalization_75 (Batc (None, 4096)              16384     \n",
      "_________________________________________________________________\n",
      "activation_75 (Activation)   (None, 4096)              0         \n",
      "_________________________________________________________________\n",
      "dropout_8 (Dropout)          (None, 4096)              0         \n",
      "_________________________________________________________________\n",
      "dense_8 (Dense)              (None, 10)                40970     \n",
      "_________________________________________________________________\n",
      "batch_normalization_76 (Batc (None, 10)                40        \n",
      "_________________________________________________________________\n",
      "activation_76 (Activation)   (None, 10)                0         \n",
      "=================================================================\n",
      "Total params: 45,294,194\n",
      "Trainable params: 45,266,782\n",
      "Non-trainable params: 27,412\n",
      "_________________________________________________________________\n"
     ]
    }
   ],
   "source": [
    "Model=VGG()\n",
    "Model.summary()"
   ]
  },
  {
   "cell_type": "markdown",
   "metadata": {},
   "source": [
    "#### Configure GPU Settings"
   ]
  },
  {
   "cell_type": "code",
   "execution_count": 10,
   "metadata": {},
   "outputs": [],
   "source": [
    "# CONFIGURE\n",
    "# Import Module\n",
    "Config=tf.ConfigProto(allow_soft_placement=True)\n",
    "Config.gpu_options.allocator_type='BFC'\n",
    "Config.gpu_options.per_process_gpu_memory_fraction=0.20"
   ]
  },
  {
   "cell_type": "markdown",
   "metadata": {},
   "source": [
    "#### Train and Evaluate"
   ]
  },
  {
   "cell_type": "code",
   "execution_count": 23,
   "metadata": {},
   "outputs": [
    {
     "name": "stdout",
     "output_type": "stream",
     "text": [
      "Epoch 1/30\n",
      "50000/50000 [==============================] - 39s 782us/step - loss: 1.6835 - acc: 0.3645\n",
      "Epoch 2/30\n",
      "50000/50000 [==============================] - 33s 654us/step - loss: 1.1320 - acc: 0.6188\n",
      "Epoch 3/30\n",
      "50000/50000 [==============================] - 33s 657us/step - loss: 0.8833 - acc: 0.7098\n",
      "Epoch 4/30\n",
      "50000/50000 [==============================] - 32s 648us/step - loss: 0.7350 - acc: 0.7641\n",
      "Epoch 5/30\n",
      "50000/50000 [==============================] - 32s 643us/step - loss: 0.6340 - acc: 0.8017\n",
      "Epoch 6/30\n",
      "50000/50000 [==============================] - 33s 656us/step - loss: 0.5575 - acc: 0.8272\n",
      "Epoch 7/30\n",
      "50000/50000 [==============================] - 33s 655us/step - loss: 0.4764 - acc: 0.8536\n",
      "Epoch 8/30\n",
      "50000/50000 [==============================] - 33s 655us/step - loss: 0.4305 - acc: 0.8681\n",
      "Epoch 9/30\n",
      "50000/50000 [==============================] - 33s 654us/step - loss: 0.3793 - acc: 0.8851\n",
      "Epoch 10/30\n",
      "50000/50000 [==============================] - 33s 656us/step - loss: 0.3277 - acc: 0.9022\n",
      "Epoch 11/30\n",
      "50000/50000 [==============================] - 33s 656us/step - loss: 0.2847 - acc: 0.9162\n",
      "Epoch 12/30\n",
      "50000/50000 [==============================] - 33s 655us/step - loss: 0.2587 - acc: 0.9245\n",
      "Epoch 13/30\n",
      "50000/50000 [==============================] - 33s 656us/step - loss: 0.2218 - acc: 0.9361\n",
      "Epoch 14/30\n",
      "50000/50000 [==============================] - 33s 656us/step - loss: 0.2001 - acc: 0.9426\n",
      "Epoch 15/30\n",
      "50000/50000 [==============================] - 33s 656us/step - loss: 0.1783 - acc: 0.9499\n",
      "Epoch 16/30\n",
      "50000/50000 [==============================] - 33s 657us/step - loss: 0.1645 - acc: 0.9526\n",
      "Epoch 17/30\n",
      "50000/50000 [==============================] - 33s 651us/step - loss: 0.1427 - acc: 0.9592\n",
      "Epoch 18/30\n",
      "50000/50000 [==============================] - 33s 650us/step - loss: 0.1324 - acc: 0.9629\n",
      "Epoch 19/30\n",
      "50000/50000 [==============================] - 33s 651us/step - loss: 0.1157 - acc: 0.9680\n",
      "Epoch 20/30\n",
      "50000/50000 [==============================] - 33s 650us/step - loss: 0.1149 - acc: 0.9673\n",
      "Epoch 21/30\n",
      "50000/50000 [==============================] - 33s 651us/step - loss: 0.1001 - acc: 0.9726\n",
      "Epoch 22/30\n",
      "50000/50000 [==============================] - 33s 651us/step - loss: 0.0853 - acc: 0.9771\n",
      "Epoch 23/30\n",
      "50000/50000 [==============================] - 33s 651us/step - loss: 0.0913 - acc: 0.9758\n",
      "Epoch 24/30\n",
      "50000/50000 [==============================] - 33s 650us/step - loss: 0.0856 - acc: 0.9771\n",
      "Epoch 25/30\n",
      "50000/50000 [==============================] - 33s 651us/step - loss: 0.0731 - acc: 0.9806\n",
      "Epoch 26/30\n",
      "50000/50000 [==============================] - 33s 651us/step - loss: 0.0691 - acc: 0.9806\n",
      "Epoch 27/30\n",
      "50000/50000 [==============================] - 33s 651us/step - loss: 0.0670 - acc: 0.9820\n",
      "Epoch 28/30\n",
      "50000/50000 [==============================] - 33s 651us/step - loss: 0.0583 - acc: 0.9844\n",
      "Epoch 29/30\n",
      "50000/50000 [==============================] - 33s 651us/step - loss: 0.0601 - acc: 0.9838\n",
      "Epoch 30/30\n",
      "50000/50000 [==============================] - 33s 651us/step - loss: 0.0572 - acc: 0.9851\n",
      "10000/10000 [==============================] - 2s 244us/step\n",
      "Accuracy:  0.8102\n"
     ]
    }
   ],
   "source": [
    "# TRAINING MODEL\n",
    "# Compile Model using Adam Optimizer and Loss Computed by Categorical Cross-Entropy\n",
    "Model.compile(optimizer=Adam(0.001),loss='categorical_crossentropy',metrics=[\"accuracy\"])\n",
    "\n",
    "# Train the Model\n",
    "Model.fit(XTrain,YTrain,batch_size=BatchSize,epochs=Epochs,verbose=1)\n",
    "\n",
    "# Evaluate the Model\n",
    "Accuracy=Model.evaluate(x=XTest,y=YTest,batch_size=BatchSize)\n",
    "print(\"Accuracy: \",Accuracy[1])"
   ]
  },
  {
   "cell_type": "markdown",
   "metadata": {},
   "source": [
    "#### Augment Data"
   ]
  },
  {
   "cell_type": "code",
   "execution_count": 24,
   "metadata": {},
   "outputs": [],
   "source": [
    "# AUGMENT DATA\n",
    "# Load Image Data Generator\n",
    "Datagen=ImageDataGenerator(\n",
    "        featurewise_center=False,  # Set Input Mean to 0 over the Dataset\n",
    "        samplewise_center=False,  # Set each Sample Mean to 0\n",
    "        featurewise_std_normalization=False,  # Divide Inputs by Standard Deviation of the Dataset\n",
    "        samplewise_std_normalization=False,  # Divide each Input by its Standard Deviation\n",
    "        zca_whitening=False,  # Apply ZCA Whitening\n",
    "        rotation_range=10,  # Randomly Rotate Images in the Range (Degrees, 0 to 180)\n",
    "        zoom_range = 0.1, # Randomly Zoom Image \n",
    "        width_shift_range=0.1,  # Randomly Shift Images Horizontally (Fraction of Total Width)\n",
    "        height_shift_range=0.1,  # Randomly Shift Images Vertically (Fraction of Total Height)\n",
    "        horizontal_flip=False,  # Randomly Flip Images\n",
    "        vertical_flip=False)  # Randomly Flip Images"
   ]
  },
  {
   "cell_type": "code",
   "execution_count": 25,
   "metadata": {},
   "outputs": [],
   "source": [
    "# AUGMENT DATA\n",
    "# Fit the Augmentation Model to Training Data\n",
    "Datagen.fit(XTrain)"
   ]
  },
  {
   "cell_type": "code",
   "execution_count": 33,
   "metadata": {},
   "outputs": [],
   "source": [
    "# AUGMENT DATA\n",
    "# Create New Training Data\n",
    "AugTrainX,AugTrainY=Datagen.flow(XTrain,YTrain,batch_size=50000).next()"
   ]
  },
  {
   "cell_type": "code",
   "execution_count": 34,
   "metadata": {},
   "outputs": [
    {
     "name": "stdout",
     "output_type": "stream",
     "text": [
      "Training Data Shape: (100000, 32, 32, 3)\n",
      "Test Data Shape: (10000, 32, 32, 3)\n",
      "Training Samples: 100000\n",
      "Test Samples 10000\n"
     ]
    }
   ],
   "source": [
    "# AUGMENT DATA\n",
    "# Augment Training Data for Images and Labels\n",
    "X=np.concatenate((XTrain,AugTrainX), axis=0)\n",
    "Y=np.concatenate((YTrain,AugTrainY),axis=0)\n",
    "print('Training Data Shape:',X.shape)\n",
    "print('Test Data Shape:',XTest.shape)\n",
    "print('Training Samples:',X.shape[0])\n",
    "print('Test Samples',XTest.shape[0])"
   ]
  },
  {
   "cell_type": "markdown",
   "metadata": {},
   "source": [
    "#### Train and Evaluate"
   ]
  },
  {
   "cell_type": "code",
   "execution_count": null,
   "metadata": {},
   "outputs": [],
   "source": [
    "# Train the Model\n",
    "Model.fit(X,Y,batch_size=BatchSize,epochs=Epochs,verbose=1)"
   ]
  },
  {
   "cell_type": "code",
   "execution_count": 36,
   "metadata": {},
   "outputs": [
    {
     "name": "stdout",
     "output_type": "stream",
     "text": [
      "10000/10000 [==============================] - 2s 162us/step\n",
      "Accuracy:  0.8822\n"
     ]
    }
   ],
   "source": [
    "# Evaluate the Model\n",
    "Accuracy=Model.evaluate(x=XTest,y=YTest,batch_size=BatchSize)\n",
    "print(\"Accuracy: \",Accuracy[1])"
   ]
  },
  {
   "cell_type": "markdown",
   "metadata": {},
   "source": [
    "#### Save Model"
   ]
  },
  {
   "cell_type": "code",
   "execution_count": 39,
   "metadata": {},
   "outputs": [
    {
     "name": "stdout",
     "output_type": "stream",
     "text": [
      "Model Trained and Saved!\n"
     ]
    }
   ],
   "source": [
    "# TRAINING MODEL\n",
    "# Save the Model as JSON File, Save Weights in H5 File\n",
    "JSONString=Model.to_json()\n",
    "with open('Model.json','w') as JSONFile:\n",
    "    json.dump(JSONString,JSONFile)\n",
    "    Model.save_weights('./Model.h5')\n",
    "\n",
    "print(\"Model Trained and Saved!\")"
   ]
  }
 ],
 "metadata": {
  "kernelspec": {
   "display_name": "Python 3",
   "language": "python",
   "name": "python3"
  },
  "language_info": {
   "codemirror_mode": {
    "name": "ipython",
    "version": 3
   },
   "file_extension": ".py",
   "mimetype": "text/x-python",
   "name": "python",
   "nbconvert_exporter": "python",
   "pygments_lexer": "ipython3",
   "version": "3.5.2"
  }
 },
 "nbformat": 4,
 "nbformat_minor": 2
}
