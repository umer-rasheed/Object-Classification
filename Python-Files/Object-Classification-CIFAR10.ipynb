{
 "cells": [
  {
   "cell_type": "markdown",
   "metadata": {},
   "source": [
    "### Object Classification\n"
   ]
  },
  {
   "cell_type": "markdown",
   "metadata": {},
   "source": [
    "#### Load Data"
   ]
  },
  {
   "cell_type": "code",
   "execution_count": 1,
   "metadata": {
    "collapsed": false
   },
   "outputs": [],
   "source": [
    "# LOAD FILES FOR CIFAR-10 IMAGE DATA\n",
    "# Import Modules\n",
    "import pickle\n",
    "import os\n",
    "import pickle\n",
    "import math\n",
    "import cv2\n",
    "import numpy as np\n",
    "import matplotlib.pyplot as plt\n",
    "import matplotlib.image as mpimg\n",
    "from scipy.signal import find_peaks_cwt\n",
    "import random\n",
    "from sklearn.utils import shuffle\n",
    "import csv\n",
    "%matplotlib inline\n",
    "from urllib.request import urlretrieve\n",
    "from os.path import isfile, isdir\n",
    "from tqdm import tqdm\n",
    "import tarfile\n",
    "import glob\n",
    "\n",
    "# Change Directory\n",
    "os.chdir('..')\n",
    "os.chdir('Data/')\n",
    "OS=str(os.getcwd())"
   ]
  },
  {
   "cell_type": "code",
   "execution_count": 3,
   "metadata": {
    "collapsed": false
   },
   "outputs": [
    {
     "name": "stdout",
     "output_type": "stream",
     "text": [
      "Training Set:50000 Samples\n",
      "Image Shape:(32, 32, 3)\n",
      "Number of Classes: {0: 5000, 1: 5000, 2: 5000, 3: 5000, 4: 5000, 5: 5000, 6: 5000, 7: 5000, 8: 5000, 9: 5000}\n",
      "First 20 Labels: [6 9 9 4 1 1 2 7 8 3 4 7 7 2 9 9 9 3 2 6]\n"
     ]
    }
   ],
   "source": [
    "# LOAD FILES FOR CIFAR-10 IMAGE DATA\n",
    "# Load Label Names\n",
    "LabelNames=['Airplane','Automobile','Bird','Cat','Deer','Dog','Frog','Horse','Ship','Truck']\n",
    "\n",
    "# Load Folder Path\n",
    "DatasetFolderPath='Cifar-10-Batches-Py'\n",
    "\n",
    "# Specify Number of Batches\n",
    "NumBatches=5\n",
    "\n",
    "# Initiate Training Data\n",
    "XTrain,YTrain=[],[]\n",
    "\n",
    "# Load Batch Data in Loops    \n",
    "for BatchID in range(1,NumBatches+1):\n",
    "    with open(DatasetFolderPath+'/data_batch_'+str(BatchID),mode='rb') as File:\n",
    "        Batch=pickle.load(File,encoding='latin1')\n",
    "    if (BatchID==1):\n",
    "        XTrain=Batch['data'].reshape((len(Batch['data']),3,32,32)).transpose(0, 2, 3, 1)\n",
    "        YTrain=Batch['labels']\n",
    "    else:\n",
    "        XTrainTemp,YTrainTemp=[],[]\n",
    "        XTrainTemp=Batch['data'].reshape((len(Batch['data']),3,32,32)).transpose(0, 2, 3, 1)\n",
    "        YTrainTemp=Batch['labels']\n",
    "        XTrain=np.concatenate((XTrain,XTrainTemp),axis=0)\n",
    "        YTrain=np.concatenate((YTrain,YTrainTemp),axis=0)\n",
    "\n",
    "# Assert to Ensure Equal Size of Input & Output Data\n",
    "assert(len(XTrain)==len(YTrain))\n",
    "\n",
    "# Number of Unique Classes and Labels\n",
    "NumClass=len(set(YTrain))\n",
    "\n",
    "# Print Data Characteristics\n",
    "print(\"Training Set:{} Samples\".format(len(XTrain)))\n",
    "print(\"Image Shape:{}\".format(XTrain[0].shape))\n",
    "print('Number of Classes: {}'.format(dict(zip(*np.unique(YTrain,return_counts=True)))))\n",
    "print('First 20 Labels: {}'.format(YTrain[:20]))"
   ]
  },
  {
   "cell_type": "code",
   "execution_count": 5,
   "metadata": {
    "collapsed": false
   },
   "outputs": [
    {
     "name": "stdout",
     "output_type": "stream",
     "text": [
      "Example of Image 46681:\n",
      "Min Value: 13 Max Value: 232\n",
      "Label ID: 2 Name: Bird\n"
     ]
    },
    {
     "data": {
      "text/plain": [
       "<matplotlib.image.AxesImage at 0x7f0772964f60>"
      ]
     },
     "execution_count": 5,
     "metadata": {},
     "output_type": "execute_result"
    },
    {
     "data": {
      "image/png": "[encoded data removed]",
      "text/plain": [
       "<matplotlib.figure.Figure at 0x7f07727f6978>"
      ]
     },
     "metadata": {},
     "output_type": "display_data"
    }
   ],
   "source": [
    "# LOAD FILES FOR CIFAR-10 IMAGE DATA\n",
    "# Plot Random Image\n",
    "Index=Index=random.randint(0,len(XTrain))\n",
    "SampleImage=XTrain[Index]\n",
    "SampleLabel=YTrain[Index]\n",
    "print('Example of Image {}:'.format(Index))\n",
    "print('Min Value: {} Max Value: {}'.format(SampleImage.min(),SampleImage.max()))\n",
    "print('Label ID: {} Name: {}'.format(SampleLabel,LabelNames[SampleLabel]))\n",
    "plt.figure(figsize=(1,1))\n",
    "plt.axis('off')\n",
    "plt.imshow(SampleImage)"
   ]
  },
  {
   "cell_type": "code",
   "execution_count": 6,
   "metadata": {
    "collapsed": false
   },
   "outputs": [
    {
     "name": "stdout",
     "output_type": "stream",
     "text": [
      "Example of Image 7274:\n",
      "Min Value: 12 Max Value: 228\n",
      "Label ID: 4 Name: Deer\n"
     ]
    },
    {
     "data": {
      "text/plain": [
       "<matplotlib.image.AxesImage at 0x7f0772841eb8>"
      ]
     },
     "execution_count": 6,
     "metadata": {},
     "output_type": "execute_result"
    },
    {
     "data": {
      "image/png": "[encoded data removed]",
      "text/plain": [
       "<matplotlib.figure.Figure at 0x7f07728468d0>"
      ]
     },
     "metadata": {},
     "output_type": "display_data"
    }
   ],
   "source": [
    "# LOAD FILES FOR CIFAR-10 IMAGE DATA\n",
    "# Load Test Data\n",
    "with open(DatasetFolderPath+'/test_batch',mode='rb') as File:\n",
    "    Batch=pickle.load(File, encoding='latin1')\n",
    "# load the training data\n",
    "XTest=Batch['data'].reshape((len(Batch['data']), 3, 32, 32)).transpose(0, 2, 3, 1)\n",
    "YTest=Batch['labels']\n",
    "\n",
    "# Plot Random Image\n",
    "Index=Index=random.randint(0,len(XTest))\n",
    "SampleImage=XTrain[Index]\n",
    "SampleLabel=YTrain[Index]\n",
    "print('Example of Image {}:'.format(Index))\n",
    "print('Min Value: {} Max Value: {}'.format(SampleImage.min(),SampleImage.max()))\n",
    "print('Label ID: {} Name: {}'.format(SampleLabel,LabelNames[SampleLabel]))\n",
    "plt.figure(figsize=(1,1))\n",
    "plt.axis('off')\n",
    "plt.imshow(SampleImage)"
   ]
  },
  {
   "cell_type": "markdown",
   "metadata": {},
   "source": [
    "#### Data Exploration"
   ]
  },
  {
   "cell_type": "code",
   "execution_count": 7,
   "metadata": {
    "collapsed": false
   },
   "outputs": [
    {
     "data": {
      "image/png": "[encoded data removed]",
      "text/plain": [
       "<matplotlib.figure.Figure at 0x7f077283b710>"
      ]
     },
     "metadata": {},
     "output_type": "display_data"
    }
   ],
   "source": [
    "# DATA EXPLORATION \n",
    "# Plot the Histograms for Training and Testing Data\n",
    "plt.figure(figsize=(15,5))\n",
    "plt.hist(YTrain,bins=10,label='Training Data',color='blue')\n",
    "plt.hist(YTest,bins=10,label='Testing Data',color='green')\n",
    "plt.title('Frequency of Each Class in Training & Testing Set')\n",
    "plt.ylabel('Count')\n",
    "plt.legend(loc='upper right')\n",
    "plt.xticks(np.arange(0.5,10+0.5,0.9),[0,1,2,3,4,5,6,7,8,9],ha='right',rotation=0)\n",
    "plt.show()"
   ]
  },
  {
   "cell_type": "markdown",
   "metadata": {},
   "source": [
    "#### Data Preprocessing"
   ]
  },
  {
   "cell_type": "code",
   "execution_count": 8,
   "metadata": {
    "collapsed": false
   },
   "outputs": [
    {
     "name": "stdout",
     "output_type": "stream",
     "text": [
      "Training and Testing Data Shuffled\n"
     ]
    }
   ],
   "source": [
    "# DATA PREPROCESSING\n",
    "# Shuffle the Data\n",
    "XTrain,YTrain=shuffle(XTrain,YTrain)\n",
    "XTest,YTest=shuffle(XTest,YTest)\n",
    "print('Training and Testing Data Shuffled')"
   ]
  },
  {
   "cell_type": "code",
   "execution_count": 9,
   "metadata": {
    "collapsed": false
   },
   "outputs": [
    {
     "name": "stdout",
     "output_type": "stream",
     "text": [
      "Training Data Randomized and Split for Validation\n",
      "Training Data Size:(45000, 32, 32, 3)\n",
      "Validation Data Size:(5000, 32, 32, 3)\n"
     ]
    }
   ],
   "source": [
    "# DATA PREPROCESSING\n",
    "# Add Validation Data\n",
    "from sklearn.cross_validation import train_test_split\n",
    "XTrain,XVal,YTrain,YVal=train_test_split(XTrain,YTrain,test_size=0.10,random_state=0)\n",
    "print('Training Data Randomized and Split for Validation')\n",
    "print('Training Data Size:'+str(XTrain.shape))\n",
    "print('Validation Data Size:'+str(XVal.shape))"
   ]
  },
  {
   "cell_type": "markdown",
   "metadata": {},
   "source": [
    "#### Model Architecture"
   ]
  },
  {
   "cell_type": "code",
   "execution_count": 10,
   "metadata": {
    "collapsed": true
   },
   "outputs": [],
   "source": [
    "# DEFINE ARCHITECTURE\n",
    "# Import Tensorflow\n",
    "import tensorflow as tf\n",
    "from tensorflow.contrib.layers import flatten\n",
    "import time"
   ]
  },
  {
   "cell_type": "code",
   "execution_count": 21,
   "metadata": {
    "collapsed": true
   },
   "outputs": [],
   "source": [
    "# DEFINE ARCHITECTURE\n",
    "# Set Epochs and Batch Size\n",
    "Epochs=20\n",
    "BatchSize=128"
   ]
  },
  {
   "cell_type": "code",
   "execution_count": 12,
   "metadata": {
    "collapsed": false
   },
   "outputs": [
    {
     "name": "stdout",
     "output_type": "stream",
     "text": [
      "Pre-trained Network Loaded!\n"
     ]
    }
   ],
   "source": [
    "# DEFINE ARCHITECTURE\n",
    "# Load Pre-Trained Network\n",
    "NetData=np.load(\"bvlc-alexnet.npy\",encoding=\"latin1\").item()\n",
    "print('Pre-trained Network Loaded!')"
   ]
  },
  {
   "cell_type": "code",
   "execution_count": 14,
   "metadata": {
    "collapsed": false
   },
   "outputs": [
    {
     "name": "stdout",
     "output_type": "stream",
     "text": [
      "Set Placeholder!\n"
     ]
    }
   ],
   "source": [
    "# DEFINE ARCHITECTURE\n",
    "# Set a Placeholder\n",
    "Features=tf.placeholder(tf.float32,(None,32,32,3))\n",
    "Labels=tf.placeholder(tf.int64,None)\n",
    "Resized=tf.image.resize_images(Features,(227,227))\n",
    "print('Set Placeholder!')"
   ]
  },
  {
   "cell_type": "code",
   "execution_count": 16,
   "metadata": {
    "collapsed": true
   },
   "outputs": [],
   "source": [
    "# DEFINE ALEXNET ARCHITECTURE\n",
    "def AlexNetCIFAR10(X):\n",
    "    # Layer 01: Convolutional.\n",
    "    # Set Layer Parameters & Network\n",
    "    W1=tf.Variable(NetData[\"conv1\"][0])\n",
    "    B1=tf.Variable(NetData[\"conv1\"][1])\n",
    "    CO=96\n",
    "    CI=X.get_shape()[-1]\n",
    "    assert CI%1==0\n",
    "    assert CO%1==0\n",
    "    Conv1Init=tf.nn.conv2d(X,W1,[1,4,4,1],padding='SAME')\n",
    "    Conv1=tf.reshape(tf.nn.bias_add(Conv1Init,B1),[-1]+Conv1Init.get_shape().as_list()[1:])\n",
    "    \n",
    "    # Set Activation\n",
    "    Conv1=tf.nn.relu(Conv1)\n",
    "    \n",
    "    # Do Normalization\n",
    "    Lrn1=tf.nn.local_response_normalization(Conv1,depth_radius=2,alpha=2e-05,beta=0.75,bias=1.0)\n",
    "    \n",
    "    # Do Pooling\n",
    "    Maxpool1=tf.nn.max_pool(Lrn1,ksize=[1,3,3,1],strides=[1,2,2,1],padding='VALID')\n",
    "    \n",
    "    # Layer 02: Convolutional.\n",
    "    # Set Layer Parameters & Network\n",
    "    W2=tf.Variable(NetData[\"conv2\"][0])\n",
    "    B2=tf.Variable(NetData[\"conv2\"][1])\n",
    "    InputGroups=tf.split(Maxpool1,2,3)\n",
    "    KernelGroups=tf.split(W2,2,3)\n",
    "    Convolve=lambda i,k:tf.nn.conv2d(i,k,[1,1,1,1],padding='SAME')\n",
    "    OutputGroups=[Convolve(i,k) for i,k in zip(InputGroups,KernelGroups)]\n",
    "    Conv2=tf.concat(OutputGroups,3)\n",
    "    Conv2=tf.reshape(tf.nn.bias_add(Conv2,B2),[-1]+Conv2.get_shape().as_list()[1:])\n",
    "    \n",
    "    # Set Activation\n",
    "    Conv2=tf.nn.relu(Conv2)\n",
    "    \n",
    "    # Do Normalization\n",
    "    Lrn2=tf.nn.local_response_normalization(Conv2,depth_radius=2,alpha=2e-05,beta=0.75,bias=1)\n",
    "    \n",
    "    # Do Pooling\n",
    "    Maxpool2=tf.nn.max_pool(Lrn2,ksize=[1,3,3,1],strides=[1,2,2,1],padding='VALID')\n",
    "   \n",
    "    # Layer 03: Convolutional.\n",
    "    # Set Layer Parameters & Network\n",
    "    W3=tf.Variable(NetData[\"conv3\"][0])\n",
    "    B3=tf.Variable(NetData[\"conv3\"][1])\n",
    "    Conv3=tf.nn.conv2d(Maxpool2,W3,[1,1,1,1],padding='SAME')\n",
    "    Conv3=tf.reshape(tf.nn.bias_add(Conv3,B3),[-1]+Conv3.get_shape().as_list()[1:])\n",
    "    \n",
    "    # Set Activation\n",
    "    Conv3=tf.nn.relu(Conv3)\n",
    "    \n",
    "    # Layer 04: Convolutional.\n",
    "    # Set Layer Parameters & Network\n",
    "    W4=tf.Variable(NetData[\"conv4\"][0])\n",
    "    B4=tf.Variable(NetData[\"conv4\"][1])\n",
    "    InputGroups=tf.split(Conv3,2,3)\n",
    "    KernelGroups=tf.split(W4,2,3)\n",
    "    Convolve=lambda i,k:tf.nn.conv2d(i,k,[1,1,1,1],padding='SAME')\n",
    "    OutputGroups=[Convolve(i,k) for i,k in zip(InputGroups,KernelGroups)]\n",
    "    Conv4=tf.concat(OutputGroups,3)\n",
    "    Conv4=tf.reshape(tf.nn.bias_add(Conv4,B4),[-1]+Conv4.get_shape().as_list()[1:])\n",
    "    \n",
    "    # Set Activation\n",
    "    Conv4=tf.nn.relu(Conv4)\n",
    "    \n",
    "    # Layer 05: Convolutional.\n",
    "    # Set Layer Parameters & Network\n",
    "    W5=tf.Variable(NetData[\"conv5\"][0])\n",
    "    B5=tf.Variable(NetData[\"conv5\"][1])\n",
    "    InputGroups=tf.split(Conv4,2,3)\n",
    "    KernelGroups=tf.split(W5,2,3)\n",
    "    Convolve=lambda i,k:tf.nn.conv2d(i,k,[1,1,1,1],padding='SAME')\n",
    "    OutputGroups=[Convolve(i,k) for i,k in zip(InputGroups,KernelGroups)]\n",
    "    Conv5=tf.concat(OutputGroups,3)\n",
    "    Conv5=tf.reshape(tf.nn.bias_add(Conv5,B5),[-1]+Conv5.get_shape().as_list()[1:])\n",
    "    \n",
    "    # Set Activation\n",
    "    Conv5=tf.nn.relu(Conv5)\n",
    "    \n",
    "    # Do Pooling\n",
    "    Maxpool5=tf.nn.max_pool(Conv5,ksize=[1,3,3,1],strides=[1,2,2,1],padding='VALID')\n",
    "\n",
    "    # Layer 06: Fully Connected.\n",
    "    W6=tf.Variable(NetData[\"fc6\"][0])\n",
    "    B6=tf.Variable(NetData[\"fc6\"][1])\n",
    "    Flat=tf.reshape(Maxpool5,[-1,int(np.prod(Maxpool5.get_shape()[1:]))])\n",
    "    N6=tf.nn.relu(tf.matmul(Flat,W6)+B6)\n",
    "    \n",
    "    # Layer 07: Fully Connected.\n",
    "    W7=tf.Variable(NetData[\"fc7\"][0])\n",
    "    B7=tf.Variable(NetData[\"fc7\"][1])\n",
    "    N7=tf.nn.relu(tf.matmul(N6,W7)+B7)\n",
    "    \n",
    "    # Return Last Layer\n",
    "    return N7"
   ]
  },
  {
   "cell_type": "code",
   "execution_count": 17,
   "metadata": {
    "collapsed": true
   },
   "outputs": [],
   "source": [
    "# DEFINE ALEXNET ARCHITECTURE\n",
    "# Set Last Layer \n",
    "N7=AlexNetCIFAR10(Resized)\n",
    "N7=tf.stop_gradient(N7)\n",
    "Shape=(N7.get_shape().as_list()[-1],NumClass)\n",
    "W8=tf.Variable(tf.truncated_normal(Shape,stddev=1e-2))\n",
    "B8=tf.Variable(tf.zeros(NumClass))\n",
    "Logits=tf.nn.xw_plus_b(N7,W8,B8)"
   ]
  },
  {
   "cell_type": "code",
   "execution_count": 18,
   "metadata": {
    "collapsed": true
   },
   "outputs": [],
   "source": [
    "# DEFINE ALEXNET ARCHITECTURE\n",
    "# Set Training Pipeline\n",
    "CrossEntropy=tf.nn.sparse_softmax_cross_entropy_with_logits(logits=Logits,labels=Labels)\n",
    "LossOp=tf.reduce_mean(CrossEntropy)\n",
    "Opt=tf.train.AdamOptimizer()\n",
    "TrainOp=Opt.minimize(LossOp,var_list=[W8,B8])\n",
    "InitOp=tf.global_variables_initializer()\n",
    "Preds=tf.arg_max(Logits,1)\n",
    "AccuracyOp=tf.reduce_mean(tf.cast(tf.equal(Preds,Labels),tf.float32))"
   ]
  },
  {
   "cell_type": "markdown",
   "metadata": {},
   "source": [
    "#### Train & Test the Model"
   ]
  },
  {
   "cell_type": "code",
   "execution_count": 19,
   "metadata": {
    "collapsed": true
   },
   "outputs": [],
   "source": [
    "# MODEL EVALUATION\n",
    "# Initialize Evaluation\n",
    "def Evaluate(X,Y,Sess):\n",
    "    TotalAcc=0\n",
    "    TotalLoss=0\n",
    "    for Offset in range(0,X.shape[0],BatchSize):\n",
    "        End=Offset+BatchSize\n",
    "        XBatch=X[Offset:End]\n",
    "        YBatch=Y[Offset:End]\n",
    "        Loss,Acc=Sess.run([LossOp,AccuracyOp],feed_dict={Features:XBatch,Labels:YBatch})\n",
    "        TotalLoss+=(Loss*XBatch.shape[0])\n",
    "        TotalAcc+=(Acc*XBatch.shape[0])\n",
    "    \n",
    "    # Return Loss and Accuracy\n",
    "    return TotalLoss/X.shape[0],TotalAcc/X.shape[0]"
   ]
  },
  {
   "cell_type": "code",
   "execution_count": 22,
   "metadata": {
    "collapsed": false
   },
   "outputs": [
    {
     "name": "stdout",
     "output_type": "stream",
     "text": [
      "Epoch 1\n",
      "Time: 1237.641 seconds\n",
      "Validation Loss = 0.786285130978\n",
      "Validation Accuracy = 0.7272\n",
      "\n",
      "Epoch 2\n",
      "Time: 1260.172 seconds\n",
      "Validation Loss = 0.740084891701\n",
      "Validation Accuracy = 0.7412\n",
      "\n",
      "Epoch 3\n",
      "Time: 1258.969 seconds\n",
      "Validation Loss = 0.748543235683\n",
      "Validation Accuracy = 0.7418\n",
      "\n",
      "Epoch 4\n",
      "Time: 1245.316 seconds\n",
      "Validation Loss = 0.717272654915\n",
      "Validation Accuracy = 0.7452\n",
      "\n",
      "Epoch 5\n",
      "Time: 1257.938 seconds\n",
      "Validation Loss = 0.700405707169\n",
      "Validation Accuracy = 0.7524\n",
      "\n",
      "Epoch 6\n",
      "Time: 1252.849 seconds\n",
      "Validation Loss = 0.706243869305\n",
      "Validation Accuracy = 0.7508\n",
      "\n",
      "Epoch 7\n",
      "Time: 1246.313 seconds\n",
      "Validation Loss = 0.740354721832\n",
      "Validation Accuracy = 0.7416\n",
      "\n",
      "Epoch 8\n",
      "Time: 1244.647 seconds\n",
      "Validation Loss = 0.705278505421\n",
      "Validation Accuracy = 0.7526\n",
      "\n",
      "Epoch 9\n",
      "Time: 1244.829 seconds\n",
      "Validation Loss = 0.727888646698\n",
      "Validation Accuracy = 0.7532\n",
      "\n",
      "Epoch 10\n",
      "Time: 1246.249 seconds\n",
      "Validation Loss = 0.709115063572\n",
      "Validation Accuracy = 0.7562\n",
      "\n",
      "Epoch 11\n",
      "Time: 1251.365 seconds\n",
      "Validation Loss = 0.712581463146\n",
      "Validation Accuracy = 0.7582\n",
      "\n",
      "Epoch 12\n",
      "Time: 1251.084 seconds\n",
      "Validation Loss = 0.740530294991\n",
      "Validation Accuracy = 0.7494\n",
      "\n",
      "Epoch 13\n",
      "Time: 1251.569 seconds\n",
      "Validation Loss = 0.726225948143\n",
      "Validation Accuracy = 0.7522\n",
      "\n",
      "Epoch 14\n",
      "Time: 1250.179 seconds\n",
      "Validation Loss = 0.760419933891\n",
      "Validation Accuracy = 0.747\n",
      "\n",
      "Epoch 15\n",
      "Time: 1251.579 seconds\n",
      "Validation Loss = 0.760258030796\n",
      "Validation Accuracy = 0.7488\n",
      "\n",
      "Epoch 16\n",
      "Time: 1255.454 seconds\n",
      "Validation Loss = 0.770138100338\n",
      "Validation Accuracy = 0.7444\n",
      "\n",
      "Epoch 17\n",
      "Time: 1255.173 seconds\n",
      "Validation Loss = 0.74163005085\n",
      "Validation Accuracy = 0.7524\n",
      "\n",
      "Epoch 18\n",
      "Time: 1257.262 seconds\n",
      "Validation Loss = 0.780395648479\n",
      "Validation Accuracy = 0.7448\n",
      "\n",
      "Epoch 19\n",
      "Time: 1266.600 seconds\n",
      "Validation Loss = 0.7478623353\n",
      "Validation Accuracy = 0.7574\n",
      "\n",
      "Epoch 20\n",
      "Time: 1426.664 seconds\n",
      "Validation Loss = 0.815723154831\n",
      "Validation Accuracy = 0.7354\n",
      "\n"
     ]
    }
   ],
   "source": [
    "# TRAIN AND TEST \n",
    "# Use Session to Test Model\n",
    "with tf.Session() as SessMajor:\n",
    "    SessMajor.run(InitOp)\n",
    "\n",
    "    for i in range(Epochs):\n",
    "        XTrain,YTrain=shuffle(XTrain,YTrain)\n",
    "        T0=time.time()\n",
    "        for Offset in range(0,XTrain.shape[0],BatchSize):\n",
    "            End=Offset+BatchSize\n",
    "            SessMajor.run(TrainOp,feed_dict={Features:XTrain[Offset:End],Labels:YTrain[Offset:End]})\n",
    "\n",
    "        ValLoss,ValAcc=Evaluate(XVal,YVal,SessMajor)\n",
    "        print(\"Epoch\",i+1)\n",
    "        print(\"Time: %.3f seconds\"%(time.time()-T0))\n",
    "        print(\"Validation Loss =\",ValLoss)\n",
    "        print(\"Validation Accuracy =\",ValAcc)\n",
    "        print(\"\")"
   ]
  }
 ],
 "metadata": {
  "anaconda-cloud": {},
  "kernelspec": {
   "display_name": "Python [default]",
   "language": "python",
   "name": "python3"
  },
  "language_info": {
   "codemirror_mode": {
    "name": "ipython",
    "version": 3
   },
   "file_extension": ".py",
   "mimetype": "text/x-python",
   "name": "python",
   "nbconvert_exporter": "python",
   "pygments_lexer": "ipython3",
   "version": "3.5.2"
  }
 },
 "nbformat": 4,
 "nbformat_minor": 0
}
